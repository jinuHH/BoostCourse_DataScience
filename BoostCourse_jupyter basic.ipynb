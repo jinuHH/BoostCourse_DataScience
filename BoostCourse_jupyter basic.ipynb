{
 "cells": [
  {
   "cell_type": "markdown",
   "id": "373e83d9",
   "metadata": {},
   "source": [
    "# 주피터 노트북 사용법\n",
    "* Shift + Enter 키를 누르면 셀이 실행되고 커서가 다음셀로 이동합니다.\n",
    "* Ctrl + Enter 키를 누르면 셀이 실행되고 커서가 해당셀에 머물러 있습니다.\n",
    "* Enter 키를 누르면 다시 편집상태로 돌아옵니다\n",
    "* ESC 키를 누르고\n",
    "    * a 키를 누르면 위에 셀이 추가됩니다.\n",
    "    * b 키를 누르면 아래에 셀이 추가 됩니다.\n",
    "    * dd 키를 누르면 셀이 삭제가 됩니다.\n",
    "    * m 키를 누면 문서 셀로 변경됩니다.\n",
    "    * y 키를 누르면 코드 셀로 변경됩니다.\n",
    "* h 키를 누르면 단축키 목록이 나옵니다.\n",
    "* View - Toggle Line Numbers 를 누르면 코드의 라인 넘버를 알 수 있습니다.\n",
    "\n",
    "## 마크다운(Markdown)이란?\n",
    "* 코드와 함께 문서화를 하실 수 있습니다\n",
    "* 문서화를 할 수 있는 '문법' 입니다.\n",
    "\n",
    "```\n",
    "여러 줄의 설명을\n",
    "줄바꿈으로 쓰고자 할 때\n",
    "```"
   ]
  },
  {
   "cell_type": "code",
   "execution_count": 2,
   "id": "96d27cce",
   "metadata": {},
   "outputs": [
    {
     "name": "stdout",
     "output_type": "stream",
     "text": [
      "Hello World!\n"
     ]
    }
   ],
   "source": [
    "print(\"Hello World!\")"
   ]
  },
  {
   "cell_type": "code",
   "execution_count": 3,
   "id": "9a26bc42",
   "metadata": {},
   "outputs": [
    {
     "data": {
      "text/plain": [
       "3"
      ]
     },
     "execution_count": 3,
     "metadata": {},
     "output_type": "execute_result"
    }
   ],
   "source": [
    "a = 1\n",
    "b = 2\n",
    "a + b"
   ]
  },
  {
   "cell_type": "code",
   "execution_count": null,
   "id": "7c3da6da",
   "metadata": {},
   "outputs": [],
   "source": [
    "for i in range(10000):\n",
    "    print(i)"
   ]
  },
  {
   "cell_type": "code",
   "execution_count": null,
   "id": "a87f3b80",
   "metadata": {},
   "outputs": [],
   "source": []
  },
  {
   "cell_type": "code",
   "execution_count": null,
   "id": "46cb29b4",
   "metadata": {},
   "outputs": [],
   "source": []
  }
 ],
 "metadata": {
  "kernelspec": {
   "display_name": "Python 3 (ipykernel)",
   "language": "python",
   "name": "python3"
  },
  "language_info": {
   "codemirror_mode": {
    "name": "ipython",
    "version": 3
   },
   "file_extension": ".py",
   "mimetype": "text/x-python",
   "name": "python",
   "nbconvert_exporter": "python",
   "pygments_lexer": "ipython3",
   "version": "3.10.9"
  }
 },
 "nbformat": 4,
 "nbformat_minor": 5
}
